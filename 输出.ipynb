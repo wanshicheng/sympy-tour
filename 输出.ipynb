{
 "cells": [
  {
   "cell_type": "markdown",
   "metadata": {},
   "source": [
    "Sympy 可以使用 Unicode 编码进行美观的输出（print）。Sympy 中有几种 printer：\n",
    "\n",
    "- str\n",
    "- srepr\n",
    "- ASCII pretty printer\n",
    "- Unicode pretty printer\n",
    "- LaTex\n",
    "- MathML\n",
    "- Dot\n",
    "\n",
    "除了这些，还有其它的 printer 可以将 SymPy 对象输出成为代码，如：C、Fortran、Javascript、Theano 和 Python。这些将不会在本教程中进行讨论。\n",
    "\n",
    "# 设置美观的输出\n",
    "使用 init_printing() 函数，可以自动地在你的环境中使用最合适的 printer。"
   ]
  },
  {
   "cell_type": "code",
   "execution_count": null,
   "metadata": {},
   "outputs": [],
   "source": []
  }
 ],
 "metadata": {
  "kernelspec": {
   "display_name": "Python 3",
   "language": "python",
   "name": "python3"
  },
  "language_info": {
   "codemirror_mode": {
    "name": "ipython",
    "version": 3
   },
   "file_extension": ".py",
   "mimetype": "text/x-python",
   "name": "python",
   "nbconvert_exporter": "python",
   "pygments_lexer": "ipython3",
   "version": "3.6.3"
  }
 },
 "nbformat": 4,
 "nbformat_minor": 2
}
